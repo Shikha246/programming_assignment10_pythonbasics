{
 "cells": [
  {
   "cell_type": "markdown",
   "id": "73bba374",
   "metadata": {},
   "source": [
    "## 1. Write a Python program to find sum of elements in list?"
   ]
  },
  {
   "cell_type": "code",
   "execution_count": 3,
   "id": "8142abe5",
   "metadata": {},
   "outputs": [
    {
     "name": "stdout",
     "output_type": "stream",
     "text": [
      "Enter the size of the list:8\n",
      "Enter number1:1\n",
      "Enter number2:2\n",
      "Enter number3:3\n",
      "Enter number4:4\n",
      "Enter number5:5\n",
      "Enter number6:67\n",
      "Enter number7:7\n",
      "Enter number8:8\n",
      "[1, 2, 3, 4, 5, 67, 7, 8]\n",
      "The sum of the list [1, 2, 3, 4, 5, 67, 7, 8] is 97\n"
     ]
    }
   ],
   "source": [
    "size=int(input(\"Enter the size of the list:\"))\n",
    "my_list=list()\n",
    "for i in range(1,size+1):\n",
    "    item=int(input(f\"Enter number{i}:\"))\n",
    "    my_list.append(item)\n",
    "print(my_list)\n",
    "\n",
    "sum=0\n",
    "for j in my_list:\n",
    "    sum=sum+j\n",
    "print(f\"The sum of the list {my_list} is {sum}\")\n",
    "    \n",
    "\n",
    "    "
   ]
  },
  {
   "cell_type": "markdown",
   "id": "e49a91af",
   "metadata": {},
   "source": [
    "## 2. Write a Python program to Multiply all numbers in the list?"
   ]
  },
  {
   "cell_type": "code",
   "execution_count": 4,
   "id": "febe0d9c",
   "metadata": {},
   "outputs": [
    {
     "name": "stdout",
     "output_type": "stream",
     "text": [
      "Enter the size of the list:5\n",
      "Enter number1:1\n",
      "Enter number2:2\n",
      "Enter number3:3\n",
      "Enter number4:4\n",
      "Enter number5:5\n",
      "[1, 2, 3, 4, 5]\n",
      "The multiplication of all list items [1, 2, 3, 4, 5] is 120\n"
     ]
    }
   ],
   "source": [
    "size=int(input(\"Enter the size of the list:\"))\n",
    "my_list=list()\n",
    "for i in range(1,size+1):\n",
    "    item=int(input(f\"Enter number{i}:\"))\n",
    "    my_list.append(item)\n",
    "print(my_list)\n",
    "\n",
    "mul=1\n",
    "for j in my_list:\n",
    "    mul=mul*j\n",
    "print(f\"The multiplication of all list items {my_list} is {mul}\")"
   ]
  },
  {
   "cell_type": "markdown",
   "id": "082615d5",
   "metadata": {},
   "source": [
    "## 3. Write a Python program to find smallest number in a list?"
   ]
  },
  {
   "cell_type": "code",
   "execution_count": 6,
   "id": "291aa51b",
   "metadata": {},
   "outputs": [
    {
     "name": "stdout",
     "output_type": "stream",
     "text": [
      "Enter the size of the list:7\n",
      "Enter number1:3\n",
      "Enter number2:5\n",
      "Enter number3:67\n",
      "Enter number4:8\n",
      "Enter number5:5\n",
      "Enter number6:3\n",
      "Enter number7:4\n",
      "[3, 5, 67, 8, 5, 3, 4]\n",
      "The smalest number is  3\n"
     ]
    }
   ],
   "source": [
    "size=int(input(\"Enter the size of the list:\"))\n",
    "my_list=list()\n",
    "for i in range(1,size+1):\n",
    "    item=int(input(f\"Enter number{i}:\"))\n",
    "    my_list.append(item)\n",
    "print(my_list)\n",
    "small_no=min(my_list)\n",
    "print(\"The smalest number is \",small_no)\n",
    "    "
   ]
  },
  {
   "cell_type": "markdown",
   "id": "766842e0",
   "metadata": {},
   "source": [
    "## 4. Write a Python program to find largest number in a list?"
   ]
  },
  {
   "cell_type": "code",
   "execution_count": 8,
   "id": "8f114100",
   "metadata": {},
   "outputs": [
    {
     "name": "stdout",
     "output_type": "stream",
     "text": [
      "Enter the size of the list:5\n",
      "Enter number1:45\n",
      "Enter number2:36\n",
      "Enter number3:58\n",
      "Enter number4:28\n",
      "Enter number5:48\n",
      "[45, 36, 58, 28, 48]\n",
      "The max number is 58\n"
     ]
    }
   ],
   "source": [
    "size=int(input(\"Enter the size of the list:\"))\n",
    "my_list=list()\n",
    "for i in range(1,size+1):\n",
    "    item=int(input(f\"Enter number{i}:\"))\n",
    "    my_list.append(item)\n",
    "print(my_list)\n",
    "max_no=max(my_list)\n",
    "print(\"The max number is\", max_no)"
   ]
  },
  {
   "cell_type": "markdown",
   "id": "8350f83c",
   "metadata": {},
   "source": [
    "## 5. Write a Python program to find second largest number in a list?"
   ]
  },
  {
   "cell_type": "code",
   "execution_count": 11,
   "id": "b9e1c4e6",
   "metadata": {},
   "outputs": [
    {
     "name": "stdout",
     "output_type": "stream",
     "text": [
      "Enter the size of the list:4\n",
      "Enter number1:26\n",
      "Enter number2:47\n",
      "Enter number3:74\n",
      "Enter number4:69\n",
      "[26, 47, 69, 74]\n",
      "The second largest number in the list is 69\n"
     ]
    }
   ],
   "source": [
    "size=int(input(\"Enter the size of the list:\"))\n",
    "my_list=list()\n",
    "for i in range(1,size+1):\n",
    "    item=int(input(f\"Enter number{i}:\"))\n",
    "    my_list.append(item)\n",
    "my_list.sort()\n",
    "print(my_list)\n",
    "print(f\"The second largest number in the list is {my_list[-2]}\")"
   ]
  },
  {
   "cell_type": "markdown",
   "id": "8cf4d03a",
   "metadata": {},
   "source": [
    "## 6. Write a Python program to find N largest elements from a list?"
   ]
  },
  {
   "cell_type": "code",
   "execution_count": 14,
   "id": "d3cfeb73",
   "metadata": {},
   "outputs": [
    {
     "name": "stdout",
     "output_type": "stream",
     "text": [
      "Enter the size of the list:4\n",
      "Enter number1:87\n",
      "Enter number2:25\n",
      "Enter number3:48\n",
      "Enter number4:53\n",
      "list:[87, 25, 48, 53]\n",
      "Enter the nth number from the range(1,4):3\n",
      "sorted list:[25, 48, 53, 87]\n",
      "48\n"
     ]
    }
   ],
   "source": [
    "size=int(input(\"Enter the size of the list:\"))\n",
    "my_list=list()\n",
    "for i in range(1,size+1):\n",
    "    item=int(input(f\"Enter number{i}:\"))\n",
    "    my_list.append(item)\n",
    "print(f\"list:{my_list}\")\n",
    "length=len(my_list)\n",
    "n= int(input(f\"Enter the nth number from the range(1,{length}):\"))\n",
    "my_list.sort()\n",
    "print(f\"sorted list:{my_list}\")\n",
    "print(my_list[-n])"
   ]
  },
  {
   "cell_type": "markdown",
   "id": "eba72368",
   "metadata": {},
   "source": [
    "## 7. Write a Python program to print even numbers in a list?"
   ]
  },
  {
   "cell_type": "code",
   "execution_count": 16,
   "id": "52fd1e8a",
   "metadata": {},
   "outputs": [
    {
     "name": "stdout",
     "output_type": "stream",
     "text": [
      "Enter the size of the list:4\n",
      "Enter number1:2\n",
      "Enter number2:4\n",
      "Enter number3:7\n",
      "Enter number4:5\n",
      "list:[2, 4, 7, 5]\n",
      "List with even numbers:[2, 4]\n"
     ]
    }
   ],
   "source": [
    "size=int(input(\"Enter the size of the list:\"))\n",
    "my_list=list()\n",
    "for i in range(1,size+1):\n",
    "    item=int(input(f\"Enter number{i}:\"))\n",
    "    my_list.append(item)\n",
    "print(f\"list:{my_list}\")\n",
    "even_list=list()\n",
    "for j in my_list:\n",
    "    if j%2==0:\n",
    "        even_list.append(j)\n",
    "print(f\"List with even numbers:{even_list}\")\n",
    "        "
   ]
  },
  {
   "cell_type": "markdown",
   "id": "0725b061",
   "metadata": {},
   "source": [
    "## 8. Write a Python program to print odd numbers in a List?"
   ]
  },
  {
   "cell_type": "code",
   "execution_count": 18,
   "id": "13d36128",
   "metadata": {},
   "outputs": [
    {
     "name": "stdout",
     "output_type": "stream",
     "text": [
      "Enter the size of the list:4\n",
      "Enter number1:3\n",
      "Enter number2:6\n",
      "Enter number3:5\n",
      "Enter number4:7\n",
      "list:[3, 6, 5, 7]\n",
      "List with odd numbers:[3, 5, 7]\n"
     ]
    }
   ],
   "source": [
    "size=int(input(\"Enter the size of the list:\"))\n",
    "my_list=list()\n",
    "for i in range(1,size+1):\n",
    "    item=int(input(f\"Enter number{i}:\"))\n",
    "    my_list.append(item)\n",
    "print(f\"list:{my_list}\")\n",
    "odd_list=list()\n",
    "for j in my_list:\n",
    "    if j%2!=0:\n",
    "        odd_list.append(j)\n",
    "print(f\"List with odd numbers:{odd_list}\")"
   ]
  },
  {
   "cell_type": "markdown",
   "id": "ed3bbc91",
   "metadata": {},
   "source": [
    "## 9. Write a Python program to Remove empty List from List?"
   ]
  },
  {
   "cell_type": "code",
   "execution_count": 24,
   "id": "6af0b652",
   "metadata": {},
   "outputs": [
    {
     "name": "stdout",
     "output_type": "stream",
     "text": [
      "[2, 6, 8, 65]\n"
     ]
    }
   ],
   "source": [
    "list1= [2,6,[],8,[],65,[]]\n",
    "new_list=list()\n",
    "for x in list1:\n",
    "    if x!=[]:\n",
    "        new_list.append(x)\n",
    "print(new_list)"
   ]
  },
  {
   "cell_type": "markdown",
   "id": "da34d62f",
   "metadata": {},
   "source": [
    "## 10. Write a Python program to Cloning or Copying a list?"
   ]
  },
  {
   "cell_type": "code",
   "execution_count": 1,
   "id": "36ca8bfa",
   "metadata": {},
   "outputs": [
    {
     "name": "stdout",
     "output_type": "stream",
     "text": [
      "[1, 4, 7, 5, 3, 49]\n"
     ]
    }
   ],
   "source": [
    "#copying a list\n",
    "my_list=[1,4,7,5,3,49]\n",
    "copy_list=my_list.copy()\n",
    "print(copy_list)"
   ]
  },
  {
   "cell_type": "code",
   "execution_count": 2,
   "id": "b190fec2",
   "metadata": {},
   "outputs": [
    {
     "name": "stdout",
     "output_type": "stream",
     "text": [
      "[86, 45, 76, 29, 88, 23, 17]\n"
     ]
    }
   ],
   "source": [
    "#cloning a list\n",
    "a=[86,45,76,29,88,23,17]\n",
    "b=a[:]\n",
    "print(b)"
   ]
  },
  {
   "cell_type": "markdown",
   "id": "92630fa9",
   "metadata": {},
   "source": [
    "## 11. Write a Python program to Count occurrences of an element in a list?"
   ]
  },
  {
   "cell_type": "code",
   "execution_count": 6,
   "id": "643c5410",
   "metadata": {},
   "outputs": [
    {
     "name": "stdout",
     "output_type": "stream",
     "text": [
      "The count of 3 is 4\n"
     ]
    }
   ],
   "source": [
    "#method1\n",
    "a=[3,88,33,2,3,4,3,3]\n",
    "print(f\"The count of 3 is {a.count(3)}\")"
   ]
  },
  {
   "cell_type": "code",
   "execution_count": 10,
   "id": "c6e5c34b",
   "metadata": {},
   "outputs": [
    {
     "name": "stdout",
     "output_type": "stream",
     "text": [
      "The ocurrence of 3 in the list is 4 times\n"
     ]
    }
   ],
   "source": [
    "#method 2\n",
    "a=[3,88,33,2,3,4,3,3]\n",
    "x=3\n",
    "count=0\n",
    "for ele in a:\n",
    "    if x==ele:\n",
    "        count=count+1\n",
    "print(f\"The ocurrence of 3 in the list is {count} times\")"
   ]
  },
  {
   "cell_type": "code",
   "execution_count": null,
   "id": "badfe90f",
   "metadata": {},
   "outputs": [],
   "source": []
  }
 ],
 "metadata": {
  "kernelspec": {
   "display_name": "Python 3 (ipykernel)",
   "language": "python",
   "name": "python3"
  },
  "language_info": {
   "codemirror_mode": {
    "name": "ipython",
    "version": 3
   },
   "file_extension": ".py",
   "mimetype": "text/x-python",
   "name": "python",
   "nbconvert_exporter": "python",
   "pygments_lexer": "ipython3",
   "version": "3.9.7"
  }
 },
 "nbformat": 4,
 "nbformat_minor": 5
}
